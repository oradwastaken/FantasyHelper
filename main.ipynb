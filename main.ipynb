{
 "cells": [
  {
   "cell_type": "markdown",
   "id": "1db3b23e-cba6-4b79-96ed-97c0c0593a3c",
   "metadata": {},
   "source": [
    "# Slafternoon Delight\n",
    "## Fantasy helper\n",
    "\n",
    "We can use this sheet to update our player stats and help inform our roster moves."
   ]
  },
  {
   "cell_type": "code",
   "execution_count": 1,
   "id": "a64b4315-2d41-45c5-9d54-1121084ef98e",
   "metadata": {},
   "outputs": [],
   "source": [
    "from src.fantasyhelper import stats\n",
    "import jupyter_black\n",
    "\n",
    "jupyter_black.load()"
   ]
  },
  {
   "cell_type": "code",
   "execution_count": null,
   "id": "44e7002a-e622-4b26-a439-bf13eceea7bb",
   "metadata": {},
   "outputs": [
    {
     "name": "stdout",
     "output_type": "stream",
     "text": [
      "Fetching NHL roster data...\n",
      "Fetching NHL schedule data...\n",
      "Fetching NHL skater stats...\n"
     ]
    }
   ],
   "source": [
    "try:\n",
    "    data = stats.load_data(\"nhl_data.h5\")\n",
    "except FileNotFoundError:\n",
    "    stats.update_data(\"nhl_data.h5\", date=\"2025-01-20\")\n",
    "    data = stats.load_data(\"nhl_data.h5\")"
   ]
  },
  {
   "cell_type": "code",
   "execution_count": null,
   "id": "a7e5bfdf-afdb-4c1c-9f06-842531e050b8",
   "metadata": {},
   "outputs": [],
   "source": [
    "df_skaters = data[\"df_skaters\"]\n",
    "df_skaters.head()"
   ]
  },
  {
   "cell_type": "code",
   "execution_count": null,
   "id": "03eefc9c-a45e-4140-aca7-3e599efb6035",
   "metadata": {},
   "outputs": [],
   "source": [
    "df_teams = data[\"df_teams\"]\n",
    "df_teams.head()"
   ]
  },
  {
   "cell_type": "code",
   "execution_count": null,
   "id": "a5d78d6f-49f8-473b-b946-a86f408997e5",
   "metadata": {},
   "outputs": [],
   "source": [
    "df_week = data[\"df_week\"]\n",
    "df_week.head()"
   ]
  },
  {
   "cell_type": "code",
   "execution_count": null,
   "id": "8ea7d563-aa22-4c8e-a8ce-716cf98e2a3d",
   "metadata": {},
   "outputs": [],
   "source": [
    "df_goalies = data[\"df_goalies\"]\n",
    "df_goalies.head()"
   ]
  },
  {
   "cell_type": "code",
   "execution_count": null,
   "id": "144a348c-fe6e-4245-9aed-9a872caa6b89",
   "metadata": {},
   "outputs": [],
   "source": [
    "df_fantasy_rosters = data[\"df_fantasy_rosters\"]\n",
    "df_fantasy_rosters.head()"
   ]
  },
  {
   "cell_type": "code",
   "execution_count": null,
   "id": "455fd59b-4025-4f25-9c0a-b461b4d0593f",
   "metadata": {},
   "outputs": [],
   "source": [
    "df_week[\"awayTeam\"].value_counts() + df_week[\"homeTeam\"].value_counts()"
   ]
  },
  {
   "cell_type": "code",
   "execution_count": null,
   "id": "1b5d6139-fe14-445b-b2a5-1f43f0d6a7a4",
   "metadata": {},
   "outputs": [],
   "source": []
  }
 ],
 "metadata": {
  "kernelspec": {
   "display_name": "Python 3 (ipykernel)",
   "language": "python",
   "name": "python3"
  },
  "language_info": {
   "codemirror_mode": {
    "name": "ipython",
    "version": 3
   },
   "file_extension": ".py",
   "mimetype": "text/x-python",
   "name": "python",
   "nbconvert_exporter": "python",
   "pygments_lexer": "ipython3",
   "version": "3.11.10"
  }
 },
 "nbformat": 4,
 "nbformat_minor": 5
}

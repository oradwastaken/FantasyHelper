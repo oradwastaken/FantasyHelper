{
 "cells": [
  {
   "cell_type": "markdown",
   "id": "1db3b23e-cba6-4b79-96ed-97c0c0593a3c",
   "metadata": {},
   "source": [
    "# Slafternoon Delight\n",
    "## Fantasy helper \n",
    "\n",
    "We can use this sheet to update our player stats and help inform our roster moves."
   ]
  },
  {
   "cell_type": "code",
   "execution_count": null,
   "id": "a64b4315-2d41-45c5-9d54-1121084ef98e",
   "metadata": {},
   "outputs": [],
   "source": [
    "from src.fantasyhelper import stats\n",
    "import jupyter_black\n",
    "\n",
    "jupyter_black.load()"
   ]
  },
  {
   "cell_type": "code",
   "execution_count": null,
   "id": "43e0e9d3-71bb-4948-af2d-75b5e0210a32",
   "metadata": {},
   "outputs": [],
   "source": [
    "df_stats = stats.get_player_stats()\n",
    "df_stats"
   ]
  },
  {
   "cell_type": "code",
   "execution_count": null,
   "id": "03eefc9c-a45e-4140-aca7-3e599efb6035",
   "metadata": {},
   "outputs": [],
   "source": [
    "teams_df = stats.get_teams()\n",
    "teams_df"
   ]
  },
  {
   "cell_type": "code",
   "execution_count": null,
   "id": "679a82fd-f44c-4403-802d-b440d08cd98a",
   "metadata": {},
   "outputs": [],
   "source": [
    "habs_df = stats.get_roster(\"MTL\")\n",
    "habs_df"
   ]
  }
 ],
 "metadata": {
  "kernelspec": {
   "display_name": "Python 3 (ipykernel)",
   "language": "python",
   "name": "python3"
  },
  "language_info": {
   "codemirror_mode": {
    "name": "ipython",
    "version": 3
   },
   "file_extension": ".py",
   "mimetype": "text/x-python",
   "name": "python",
   "nbconvert_exporter": "python",
   "pygments_lexer": "ipython3"
  }
 },
 "nbformat": 4,
 "nbformat_minor": 5
}
